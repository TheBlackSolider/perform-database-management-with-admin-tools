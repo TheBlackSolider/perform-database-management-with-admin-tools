{
  "nbformat": 4,
  "nbformat_minor": 0,
  "metadata": {
    "colab": {
      "provenance": []
    },
    "kernelspec": {
      "name": "python3",
      "display_name": "Python 3"
    },
    "language_info": {
      "name": "python"
    }
  },
  "cells": [
    {
      "cell_type": "markdown",
      "source": [
        "**Step 1: Simulate Database Creation and User Management**"
      ],
      "metadata": {
        "id": "XN4M8JagaQdL"
      }
    },
    {
      "cell_type": "code",
      "execution_count": 1,
      "metadata": {
        "id": "Fr7aFnuwvjM4",
        "colab": {
          "base_uri": "https://localhost:8080/"
        },
        "outputId": "17b26dd1-0674-473f-b0f0-2d201358aa4e"
      },
      "outputs": [
        {
          "output_type": "stream",
          "name": "stdout",
          "text": [
            "Simulating creation of database 'ine_project'...\n",
            "Simulated users created with the following passwords:\n",
            "User: alice, Password: alicepw\n",
            "User: bob, Password: bobpw\n",
            "User: clara, Password: clarapw\n",
            "\n",
            "Alice's password will remain valid for 180 days.\n",
            "Bob and Clara's passwords will remain valid indefinitely.\n"
          ]
        }
      ],
      "source": [
        "# Simulate database creation and user management\n",
        "def simulate_database_creation_and_user_management():\n",
        "    print(\"Simulating creation of database 'ine_project'...\")\n",
        "\n",
        "    # Simulate user creation\n",
        "    users = {\n",
        "        'alice': 'alicepw',\n",
        "        'bob': 'bobpw',\n",
        "        'clara': 'clarapw'\n",
        "    }\n",
        "\n",
        "    print(\"Simulated users created with the following passwords:\")\n",
        "    for user, password in users.items():\n",
        "        print(f\"User: {user}, Password: {password}\")\n",
        "\n",
        "    # Simulate Alice's password valid for 180 days\n",
        "    print(\"\\nAlice's password will remain valid for 180 days.\")\n",
        "    print(\"Bob and Clara's passwords will remain valid indefinitely.\")\n",
        "\n",
        "simulate_database_creation_and_user_management()\n"
      ]
    },
    {
      "cell_type": "markdown",
      "source": [
        "**Explanation:**\n",
        "\n",
        "Simulate Database Creation: We perform a military-style mock build of the ine_project database and the user allice/bob/clara with their password.\n",
        "\n",
        "Password Expiration: As for Alice, her password ends in 180 days, however Bob and Clara have no expiration date."
      ],
      "metadata": {
        "id": "N0jx7hWWafBd"
      }
    },
    {
      "cell_type": "markdown",
      "source": [
        "**Step 2: Create Tables and Assign Permissions (Simulated)**"
      ],
      "metadata": {
        "id": "10-woIugakem"
      }
    },
    {
      "cell_type": "code",
      "source": [
        "# Simulate table creation and user permissions\n",
        "def simulate_table_creation_and_permissions():\n",
        "    print(\"\\nSimulating creation of tables: data1, data2, data3...\")\n",
        "\n",
        "    # Simulate permissions for Alice, Bob, and Clara\n",
        "    print(\"\\nSimulating permissions for Alice:\")\n",
        "    print(\"Alice can perform all actions on all tables.\")\n",
        "\n",
        "    print(\"\\nSimulating permissions for Bob:\")\n",
        "    print(\"Bob can read from data1, insert new rows into data2, but cannot modify or delete them.\")\n",
        "    print(\"Bob can modify existing rows in data3, but cannot add or delete rows.\")\n",
        "\n",
        "    print(\"\\nSimulating permissions for Clara:\")\n",
        "    print(\"Clara can delete rows from all tables, but cannot read or modify them.\")\n",
        "\n",
        "simulate_table_creation_and_permissions()\n"
      ],
      "metadata": {
        "colab": {
          "base_uri": "https://localhost:8080/"
        },
        "id": "WoEqc9njaU_T",
        "outputId": "8564b870-8732-4cd6-b4d3-8e0af65a15f6"
      },
      "execution_count": 2,
      "outputs": [
        {
          "output_type": "stream",
          "name": "stdout",
          "text": [
            "\n",
            "Simulating creation of tables: data1, data2, data3...\n",
            "\n",
            "Simulating permissions for Alice:\n",
            "Alice can perform all actions on all tables.\n",
            "\n",
            "Simulating permissions for Bob:\n",
            "Bob can read from data1, insert new rows into data2, but cannot modify or delete them.\n",
            "Bob can modify existing rows in data3, but cannot add or delete rows.\n",
            "\n",
            "Simulating permissions for Clara:\n",
            "Clara can delete rows from all tables, but cannot read or modify them.\n"
          ]
        }
      ]
    },
    {
      "cell_type": "markdown",
      "source": [
        "**Explanation:**\n",
        "\n",
        "Table Creation: We mimic the creation of the three tables data1, data2 and data3.\n",
        "\n",
        "User Permissions:\n",
        "\n",
        "Alice: All the rights of using tables, including the right to read, write, change and delete them.\n",
        "\n",
        "Bob:\n",
        "Read-only access to data1.\n",
        "Only a data2 read access that is, the user must only be able to read the data and cannot delete or modify this data.\n",
        "Read and update access to data3 that allows only the insertion or update of the data but not the deletion of data.\n",
        "\n",
        "Clara: Select only in all tables but cannot perform edits or even read them."
      ],
      "metadata": {
        "id": "2Gfc1Dhpa6MS"
      }
    },
    {
      "cell_type": "markdown",
      "source": [
        "**Step 3: Testing User Permissions (Simulated)**"
      ],
      "metadata": {
        "id": "ql07nOuDbLA3"
      }
    },
    {
      "cell_type": "code",
      "source": [
        "# Simulate testing user permissions\n",
        "def simulate_user_actions():\n",
        "    print(\"\\nSimulating actions as Alice:\")\n",
        "    print(\"Alice can read, insert, update, and delete data from all tables.\")\n",
        "\n",
        "    print(\"\\nSimulating actions as Bob:\")\n",
        "    print(\"Bob can read from data1, insert into data2, and modify data3.\")\n",
        "    print(\"Bob cannot modify or delete rows in data1 or data2, and cannot insert or delete rows in data3.\")\n",
        "\n",
        "    print(\"\\nSimulating actions as Clara:\")\n",
        "    print(\"Clara can delete rows from all tables, but cannot read or modify data.\")\n",
        "\n",
        "simulate_user_actions()\n"
      ],
      "metadata": {
        "colab": {
          "base_uri": "https://localhost:8080/"
        },
        "id": "HDObKlb7ay9c",
        "outputId": "bfc9a8be-c365-45d3-c3f4-77772a80611c"
      },
      "execution_count": 3,
      "outputs": [
        {
          "output_type": "stream",
          "name": "stdout",
          "text": [
            "\n",
            "Simulating actions as Alice:\n",
            "Alice can read, insert, update, and delete data from all tables.\n",
            "\n",
            "Simulating actions as Bob:\n",
            "Bob can read from data1, insert into data2, and modify data3.\n",
            "Bob cannot modify or delete rows in data1 or data2, and cannot insert or delete rows in data3.\n",
            "\n",
            "Simulating actions as Clara:\n",
            "Clara can delete rows from all tables, but cannot read or modify data.\n"
          ]
        }
      ]
    },
    {
      "cell_type": "markdown",
      "source": [
        "**Explanation:**\n",
        "\n",
        "Testing Alice's Permissions: Alice should be able to do something on any table of the given data.\n",
        "\n",
        "Testing Bob's Permissions: Bob’s permissions are less intensive to the database as different operations are allowed on different tables.\n",
        "\n",
        "Testing Clara's Permissions: So we can see that Clara has the least privileges, she can only perform the ‘delete’ operation on the tables."
      ],
      "metadata": {
        "id": "y_frQ0-6bYEE"
      }
    },
    {
      "cell_type": "markdown",
      "source": [
        "## Conclusion\n",
        "\n",
        "In this project, we emulated the process of generating a MySQL database and users/permissions management with the help of the admin tools. We created a database called `ine_project` and set up user accounts for Alice, Bob, and Clara, each with specific permissions on three tables: Using variables `data1`, `data2`, and `data3 `.\n",
        "\n",
        "### Key Takeaways:\n",
        "- **Alice**: Is able to read details from all accessible tables.\n",
        "- **Bob**: Only has read with `data1`, write with `data2` and update permission on `data3`.\n",
        "- **Clara**: Unable to read top n columns from all the tables and is able to delete rows only from all the tables.\n",
        "\n",
        "### Future Enhancements:\n",
        "1. **Apply this on a live MySQL server**: Whenever access to a live MySQL server is made possible, what’s left of these simulations can readily be transformed into real SQL commands.\n",
        "2. **Explore more complex role-based permissions**: Finally, eliminate the user roles they are to introduce by providing specific permissions and create new roles using MySQL’s role management.\n",
        "3. **Audit and logging**: They ensure that the changes are captured according to the users’ activities through the process of user action logging.\n"
      ],
      "metadata": {
        "id": "qQ5MKCYEblfV"
      }
    },
    {
      "cell_type": "code",
      "source": [],
      "metadata": {
        "id": "FmDpkbG8bRuX"
      },
      "execution_count": null,
      "outputs": []
    }
  ]
}